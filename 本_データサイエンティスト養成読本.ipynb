{
 "cells": [
  {
   "cell_type": "markdown",
   "metadata": {},
   "source": [
    "# 教師あり学習"
   ]
  },
  {
   "cell_type": "markdown",
   "metadata": {},
   "source": [
    "p20  \n",
    "教師あり学習の問題設定のうち  \n",
    "予測対象が数値であるものを「回帰」  \n",
    "カテゴリであるものを「分類」と呼ぶ"
   ]
  },
  {
   "cell_type": "markdown",
   "metadata": {},
   "source": [
    "# 回帰"
   ]
  },
  {
   "cell_type": "markdown",
   "metadata": {},
   "source": [
    "p23\n",
    "# 損失関数 $l$ の導入\n",
    "回帰問題では, 二乗誤差=(実際の値-予測値)$^{2}$ が損失関数としてよく用いられる.  \n",
    "二乗誤差を用いると, 予測器 $f(x)=w_{0}+w_{1}x$ に対する損失関数は次のようになる.\n",
    "\n",
    "$$ l(w_{0}, w_{1}, x, y)=(y-(w_{0}+w_{1}x))^{2}$$"
   ]
  },
  {
   "cell_type": "markdown",
   "metadata": {},
   "source": [
    "1番目の都市: 予測器による犯罪率の予測値  \n",
    "$f(x) = 0.1 + 0.5*0.1 = 0.15$"
   ]
  },
  {
   "cell_type": "markdown",
   "metadata": {},
   "source": [
    "p27\n",
    "\n",
    "正則化項の値は, パラメータの値の二乗が大きいほど大きくなる.  \n",
    "つまり正則化項は, 大きすぎるパラメータ値に対するペナルティと捉えることができる.  \n",
    "なお, $w_{0}^{2}$ は「特定の変数の重視」とは無関係のため, 正則化項では和に含まないことに注意.  \n",
    "\n",
    "# リッジ回帰\n",
    "パラメータの値の二乗の和を正則化項とする回帰手法"
   ]
  },
  {
   "cell_type": "markdown",
   "metadata": {},
   "source": [
    "# 分類手法"
   ]
  },
  {
   "cell_type": "markdown",
   "metadata": {},
   "source": [
    "# ロジスティック損失(logistic loss)\n",
    "ロジスティック回帰では, 損失関数として「ロジスティック損失」を用いる."
   ]
  },
  {
   "cell_type": "markdown",
   "metadata": {},
   "source": [
    "# サポートベクターマシーン\n",
    "変数間の非線形の関係を導入しやすい強力な手法.  \n",
    "「余裕のある分類面」の獲得を目指す点がロジスティック回帰と異なる.  \n",
    "サポートベクターマシーンはマージンが最大になるように分類面を学習する."
   ]
  },
  {
   "cell_type": "markdown",
   "metadata": {},
   "source": [
    "# ヒンジ損失(hinge loss)\n",
    "サポートベクターマシーンでは, 損失関数として「ヒンジ損失」を用いる.\n",
    "\n",
    "サポートベクターマシーンでは, 目的関数を最小化することでマージンを最大化し, 多くのサンプルがマージンの外側に来るようにパラメータを推定する."
   ]
  },
  {
   "cell_type": "markdown",
   "metadata": {},
   "source": [
    "# カーネル\n",
    "カーネルは, サンプル間の類似度で, 2つのサンプルの特徴表現の内積で表される.  \n",
    "サポートベクターマシーンは, カーネルを用いることで非線形モデルを組みやすいことが知られている."
   ]
  },
  {
   "cell_type": "markdown",
   "metadata": {},
   "source": [
    " # 教師なし学習"
   ]
  },
  {
   "cell_type": "markdown",
   "metadata": {},
   "source": [
    "p118"
   ]
  },
  {
   "cell_type": "code",
   "execution_count": 1,
   "metadata": {
    "collapsed": false
   },
   "outputs": [
    {
     "data": {
      "text/plain": [
       "15"
      ]
     },
     "execution_count": 1,
     "metadata": {},
     "output_type": "execute_result"
    }
   ],
   "source": [
    "x=3*5\n",
    "x"
   ]
  },
  {
   "cell_type": "code",
   "execution_count": 2,
   "metadata": {
    "collapsed": false
   },
   "outputs": [
    {
     "name": "stdout",
     "output_type": "stream",
     "text": [
      "15\n"
     ]
    }
   ],
   "source": [
    "x=3*5\n",
    "print(x)"
   ]
  },
  {
   "cell_type": "code",
   "execution_count": 5,
   "metadata": {
    "collapsed": false
   },
   "outputs": [
    {
     "data": {
      "text/plain": [
       "array([[1, 2],\n",
       "       [3, 4]])"
      ]
     },
     "execution_count": 5,
     "metadata": {},
     "output_type": "execute_result"
    }
   ],
   "source": [
    "import numpy as np\n",
    "a = np.array([[1,2],[3,4]])\n",
    "a"
   ]
  },
  {
   "cell_type": "code",
   "execution_count": 4,
   "metadata": {
    "collapsed": false
   },
   "outputs": [
    {
     "data": {
      "text/plain": [
       "array([0, 1, 2, 3, 4, 5, 6, 7, 8, 9])"
      ]
     },
     "execution_count": 4,
     "metadata": {},
     "output_type": "execute_result"
    }
   ],
   "source": [
    "b = np.array(np.arange(10))\n",
    "b"
   ]
  },
  {
   "cell_type": "code",
   "execution_count": 5,
   "metadata": {
    "collapsed": false
   },
   "outputs": [
    {
     "data": {
      "text/plain": [
       "array([[0, 1, 2, 3, 4],\n",
       "       [5, 6, 7, 8, 9]])"
      ]
     },
     "execution_count": 5,
     "metadata": {},
     "output_type": "execute_result"
    }
   ],
   "source": [
    "c = b.reshape(2,5)\n",
    "c"
   ]
  },
  {
   "cell_type": "code",
   "execution_count": 5,
   "metadata": {
    "collapsed": false
   },
   "outputs": [
    {
     "data": {
      "text/plain": [
       "array([[0, 1],\n",
       "       [2, 3]])"
      ]
     },
     "execution_count": 5,
     "metadata": {},
     "output_type": "execute_result"
    }
   ],
   "source": [
    "a = np.arange(4).reshape(2,2)\n",
    "a"
   ]
  },
  {
   "cell_type": "code",
   "execution_count": 5,
   "metadata": {
    "collapsed": false
   },
   "outputs": [
    {
     "data": {
      "text/plain": [
       "array([[3, 4],\n",
       "       [5, 6]])"
      ]
     },
     "execution_count": 5,
     "metadata": {},
     "output_type": "execute_result"
    }
   ],
   "source": [
    "b = np.arange(3,7).reshape(2,2)\n",
    "b"
   ]
  },
  {
   "cell_type": "code",
   "execution_count": 6,
   "metadata": {
    "collapsed": false
   },
   "outputs": [
    {
     "data": {
      "text/plain": [
       "array([[3, 5],\n",
       "       [7, 9]])"
      ]
     },
     "execution_count": 6,
     "metadata": {},
     "output_type": "execute_result"
    }
   ],
   "source": [
    "a+b"
   ]
  },
  {
   "cell_type": "code",
   "execution_count": 7,
   "metadata": {
    "collapsed": false
   },
   "outputs": [
    {
     "data": {
      "text/plain": [
       "array([[0, 2],\n",
       "       [1, 3]])"
      ]
     },
     "execution_count": 7,
     "metadata": {},
     "output_type": "execute_result"
    }
   ],
   "source": [
    "a.T"
   ]
  },
  {
   "cell_type": "code",
   "execution_count": 8,
   "metadata": {
    "collapsed": false
   },
   "outputs": [
    {
     "data": {
      "text/plain": [
       "array([[3, 6],\n",
       "       [6, 9]])"
      ]
     },
     "execution_count": 8,
     "metadata": {},
     "output_type": "execute_result"
    }
   ],
   "source": [
    "a.T+b"
   ]
  },
  {
   "cell_type": "code",
   "execution_count": 9,
   "metadata": {
    "collapsed": false
   },
   "outputs": [
    {
     "data": {
      "text/plain": [
       "array([[-3, -3],\n",
       "       [-3, -3]])"
      ]
     },
     "execution_count": 9,
     "metadata": {},
     "output_type": "execute_result"
    }
   ],
   "source": [
    "a-b"
   ]
  },
  {
   "cell_type": "code",
   "execution_count": 10,
   "metadata": {
    "collapsed": false
   },
   "outputs": [
    {
     "data": {
      "text/plain": [
       "array([[ 5,  6],\n",
       "       [21, 26]])"
      ]
     },
     "execution_count": 10,
     "metadata": {},
     "output_type": "execute_result"
    }
   ],
   "source": [
    "np.dot(a,b)"
   ]
  },
  {
   "cell_type": "code",
   "execution_count": 7,
   "metadata": {
    "collapsed": false
   },
   "outputs": [
    {
     "data": {
      "text/plain": [
       "array([40, 70])"
      ]
     },
     "execution_count": 7,
     "metadata": {},
     "output_type": "execute_result"
    }
   ],
   "source": [
    "v = np.array([10, 20])\n",
    "np.dot(a,v)\n",
    "np.dot(v,a)"
   ]
  },
  {
   "cell_type": "code",
   "execution_count": 30,
   "metadata": {
    "collapsed": false
   },
   "outputs": [
    {
     "data": {
      "text/plain": [
       "array([10, 11, 12])"
      ]
     },
     "execution_count": 30,
     "metadata": {},
     "output_type": "execute_result"
    }
   ],
   "source": [
    "# インデクシング\n",
    "v = np.arange(10, 15)\n",
    "v[:-1]\n",
    "a = np.arange(1,5).reshape(2,2)\n",
    "a\n",
    "u = a[:,1]\n",
    "u\n",
    "ii = np.array([2,3])\n",
    "v[ii]\n",
    "w = np.array([False,False,False,True,True])\n",
    "v[w]\n",
    "# ブロードキャスティング\n",
    "a*2\n",
    "np.exp(a)\n",
    "v<13\n",
    "# インデクシングとブロードキャスティングを組み合わせた例\n",
    "v[v<13]"
   ]
  },
  {
   "cell_type": "code",
   "execution_count": 39,
   "metadata": {
    "collapsed": false
   },
   "outputs": [
    {
     "data": {
      "text/plain": [
       "array([0, 1, 2, 3, 4, 5])"
      ]
     },
     "execution_count": 39,
     "metadata": {},
     "output_type": "execute_result"
    }
   ],
   "source": [
    "# 行列の結合の例\n",
    "a = np.arange(6).reshape(2,3)\n",
    "b = np.arange(6,12).reshape(2,3)\n",
    "a\n",
    "b\n",
    "np.c_[a,b]\n",
    "np.r_[a,b]\n",
    "c = np.arange(3)\n",
    "d = np.arange(3, 6)\n",
    "c\n",
    "d\n",
    "np.c_[c, d]\n",
    "np.r_[c, d]"
   ]
  },
  {
   "cell_type": "code",
   "execution_count": 52,
   "metadata": {
    "collapsed": false
   },
   "outputs": [
    {
     "data": {
      "text/plain": [
       "array([  1.,   6.,   0.,  15.,  20.])"
      ]
     },
     "execution_count": 52,
     "metadata": {},
     "output_type": "execute_result"
    }
   ],
   "source": [
    "# 疎行列の計算の例\n",
    "from scipy import sparse\n",
    "a = sparse.lil_matrix((5,5))\n",
    "a[0,0]=1; a[1,2]=2; a[3,4]=3; a[4,4]=4\n",
    "a.todense()\n",
    "b = a.tocsr()\n",
    "b.getrow(1).todense()\n",
    "v = np.array([1,2,3,4,5])\n",
    "a.dot(v)"
   ]
  },
  {
   "cell_type": "code",
   "execution_count": 6,
   "metadata": {
    "collapsed": false
   },
   "outputs": [],
   "source": [
    "# matplotlib による可視化\n",
    "# 折れ線グラフ\n",
    "import matplotlib.pyplot as plt\n",
    "x = [1,2,3,4]\n",
    "y = [3,5,4,7]\n",
    "plt.plot(x,y)\n",
    "plt.show()"
   ]
  },
  {
   "cell_type": "code",
   "execution_count": 11,
   "metadata": {
    "collapsed": true
   },
   "outputs": [],
   "source": [
    "x = np.linspace(-5,5,100)\n",
    "y = x**2\n",
    "plt.plot(x,y)\n",
    "plt.show()"
   ]
  },
  {
   "cell_type": "code",
   "execution_count": 13,
   "metadata": {
    "collapsed": true
   },
   "outputs": [],
   "source": [
    "# 例8\n",
    "x = [1,2,3,4]\n",
    "y = [3,5,4,7]\n",
    "plt.scatter(x, y)\n",
    "plt.show()"
   ]
  },
  {
   "cell_type": "code",
   "execution_count": 17,
   "metadata": {
    "collapsed": true
   },
   "outputs": [],
   "source": [
    "# 例9 & 10 remix\n",
    "x = np.array([1,2,3])\n",
    "y1 = np.array([2,3,4])\n",
    "y2 = np.array([7,6,5])\n",
    "plt.scatter(x, y1, marker=\"o\", c =\"b\")\n",
    "plt.scatter(x, y2, marker=\"+\", c =\"r\")\n",
    "plt.show()"
   ]
  },
  {
   "cell_type": "code",
   "execution_count": 21,
   "metadata": {
    "collapsed": false
   },
   "outputs": [
    {
     "data": {
      "text/plain": [
       "array([4, 4, 4, 5, 5, 5, 6, 6, 6])"
      ]
     },
     "execution_count": 21,
     "metadata": {},
     "output_type": "execute_result"
    }
   ],
   "source": [
    "# 例11\n",
    "x = np.array([1,2,3])\n",
    "y = np.array([4,5,6])\n",
    "X, Y = np.meshgrid(x,y)\n",
    "X\n",
    "Y\n",
    "X.ravel()\n",
    "Y.ravel()"
   ]
  },
  {
   "cell_type": "code",
   "execution_count": 31,
   "metadata": {
    "collapsed": false
   },
   "outputs": [],
   "source": [
    "# 例12~15\n",
    "\n",
    "x = np.linspace(-5,5,200)\n",
    "y = np.linspace(-5,5,200)\n",
    "X, Y = np.meshgrid(x, y)\n",
    "Z = X.ravel()**2 - Y.ravel()**2\n",
    "#plt.contourf(X, Y, Z.reshape(X.shape))\n",
    "#plt.contourf(X, Y, Z.reshape(X.shape), levels = [-20,-10,0,10,20],colors = [\"r\",\"g\",\"b\",\"y\"])\n",
    "plt.contour(X, Y, Z.reshape(X.shape), colors = \"k\")\n",
    "\n",
    "plt.show()"
   ]
  },
  {
   "cell_type": "markdown",
   "metadata": {},
   "source": [
    "# sckit-learn 入門"
   ]
  },
  {
   "cell_type": "code",
   "execution_count": 41,
   "metadata": {
    "collapsed": false
   },
   "outputs": [
    {
     "name": "stdout",
     "output_type": "stream",
     "text": [
      "coef and intercept : [ 42.85335573] -1.62836365406\n",
      "score : 0.803335728656\n"
     ]
    }
   ],
   "source": [
    "\"\"\"\n",
    "p-128 リスト1 人工的データを使った線形回帰のプログラム\n",
    "標準出力に,係数,切片,スコア(決定係数)を表示し,点群と回帰直線をグラフにして可視化する\n",
    "\"\"\"\n",
    "import numpy as np\n",
    "import matplotlib.pyplot as plt\n",
    "from sklearn import linear_model, datasets\n",
    "\n",
    "# 乱数によりデータを生成\n",
    "np.random.seed(0)\n",
    "regdata = datasets.make_regression(100, 1, noise=20.0)\n",
    "\n",
    "# 学習を行いモデルのパラメータを表示\n",
    "lin = linear_model.LinearRegression()\n",
    "lin.fit(regdata[0], regdata[1])\n",
    "print(\"coef and intercept :\", lin.coef_, lin.intercept_)\n",
    "print(\"score :\", lin.score(regdata[0], regdata[1]))\n",
    "\n",
    "# グラフを描画\n",
    "xr = [-2.5, 2.5]\n",
    "plt.plot(xr, lin.coef_ * xr + lin.intercept_)\n",
    "plt.scatter(regdata[0], regdata[1])\n",
    "\n",
    "plt.show()"
   ]
  },
  {
   "cell_type": "code",
   "execution_count": 1,
   "metadata": {
    "collapsed": false
   },
   "outputs": [
    {
     "name": "stdout",
     "output_type": "stream",
     "text": [
      "Score : 0.585075302269\n",
      "Prediction : [ 197.61846908]\n",
      "Actual value : 233.0\n"
     ]
    },
    {
     "name": "stderr",
     "output_type": "stream",
     "text": [
      "/Users/tatarahidenori/.pyenv/versions/3.5.0/lib/python3.5/site-packages/sklearn/utils/fixes.py:64: DeprecationWarning: inspect.getargspec() is deprecated, use inspect.signature() instead\n",
      "  if 'order' in inspect.getargspec(np.copy)[0]:\n"
     ]
    }
   ],
   "source": [
    "\"\"\"\n",
    "p-129 リスト2 糖尿病データを使った線形回帰のプログラム\n",
    "\"\"\"\n",
    "import numpy as np\n",
    "import matplotlib.pyplot as plt\n",
    "from sklearn import linear_model, datasets\n",
    "\n",
    "# データの読み込み\n",
    "diabetes = datasets.load_diabetes()\n",
    "\n",
    "# データを訓練用と評価用に分ける\n",
    "data_train = diabetes.data[:-20]\n",
    "target_train = diabetes.target[:-20]\n",
    "data_test = diabetes.data[-20:]\n",
    "target_test = diabetes.target[-20:]\n",
    "\n",
    "# 学習させる\n",
    "lin = linear_model.LinearRegression()\n",
    "lin.fit(data_train, target_train)\n",
    "\n",
    "# 当てはまり度合いを表示\n",
    "print(\"Score :\", lin.score(data_test, target_test))\n",
    "\n",
    "# 最初の評価用データについて結果を予想して,実際の値と並べて表示\n",
    "print(\"Prediction :\", lin.predict(data_test[0])) #  予想\n",
    "print(\"Actual value :\", target_test[0]) # 実際の値\n",
    "\n",
    "# plt でグラフ描画はどうするのかな?"
   ]
  },
  {
   "cell_type": "code",
   "execution_count": 5,
   "metadata": {
    "collapsed": false
   },
   "outputs": [
    {
     "name": "stdout",
     "output_type": "stream",
     "text": [
      "[ 1.  1.  1.  1.  1.]\n"
     ]
    },
    {
     "name": "stderr",
     "output_type": "stream",
     "text": [
      "/Users/tatarahidenori/.pyenv/versions/3.5.0/lib/python3.5/site-packages/sklearn/base.py:175: DeprecationWarning: inspect.getargspec() is deprecated, use inspect.signature() instead\n",
      "  args, varargs, kw, default = inspect.getargspec(init)\n",
      "/Users/tatarahidenori/.pyenv/versions/3.5.0/lib/python3.5/site-packages/sklearn/base.py:175: DeprecationWarning: inspect.getargspec() is deprecated, use inspect.signature() instead\n",
      "  args, varargs, kw, default = inspect.getargspec(init)\n",
      "/Users/tatarahidenori/.pyenv/versions/3.5.0/lib/python3.5/site-packages/sklearn/base.py:175: DeprecationWarning: inspect.getargspec() is deprecated, use inspect.signature() instead\n",
      "  args, varargs, kw, default = inspect.getargspec(init)\n",
      "/Users/tatarahidenori/.pyenv/versions/3.5.0/lib/python3.5/site-packages/sklearn/base.py:175: DeprecationWarning: inspect.getargspec() is deprecated, use inspect.signature() instead\n",
      "  args, varargs, kw, default = inspect.getargspec(init)\n",
      "/Users/tatarahidenori/.pyenv/versions/3.5.0/lib/python3.5/site-packages/sklearn/base.py:175: DeprecationWarning: inspect.getargspec() is deprecated, use inspect.signature() instead\n",
      "  args, varargs, kw, default = inspect.getargspec(init)\n",
      "/Users/tatarahidenori/.pyenv/versions/3.5.0/lib/python3.5/site-packages/sklearn/base.py:175: DeprecationWarning: inspect.getargspec() is deprecated, use inspect.signature() instead\n",
      "  args, varargs, kw, default = inspect.getargspec(init)\n",
      "/Users/tatarahidenori/.pyenv/versions/3.5.0/lib/python3.5/site-packages/sklearn/base.py:175: DeprecationWarning: inspect.getargspec() is deprecated, use inspect.signature() instead\n",
      "  args, varargs, kw, default = inspect.getargspec(init)\n",
      "/Users/tatarahidenori/.pyenv/versions/3.5.0/lib/python3.5/site-packages/sklearn/base.py:175: DeprecationWarning: inspect.getargspec() is deprecated, use inspect.signature() instead\n",
      "  args, varargs, kw, default = inspect.getargspec(init)\n",
      "/Users/tatarahidenori/.pyenv/versions/3.5.0/lib/python3.5/site-packages/sklearn/base.py:175: DeprecationWarning: inspect.getargspec() is deprecated, use inspect.signature() instead\n",
      "  args, varargs, kw, default = inspect.getargspec(init)\n",
      "/Users/tatarahidenori/.pyenv/versions/3.5.0/lib/python3.5/site-packages/sklearn/base.py:175: DeprecationWarning: inspect.getargspec() is deprecated, use inspect.signature() instead\n",
      "  args, varargs, kw, default = inspect.getargspec(init)\n"
     ]
    }
   ],
   "source": [
    "\"\"\"\n",
    "p-130 リスト3 ロジスティック回帰を使ってあやめデータを学習させるプログラム\n",
    "\"\"\"\n",
    "import sklearn.datasets as datasets\n",
    "from sklearn.linear_model import LogisticRegression\n",
    "from sklearn import cross_validation\n",
    "\n",
    "# データの読み込み\n",
    "iris = datasets.load_iris()\n",
    "\n",
    "# 種類が2であるものを捨てる\n",
    "data = iris.data[iris.target != 2]\n",
    "target = iris.target[iris.target != 2]\n",
    "\n",
    "# ロジスティック回帰による学習と交差検定による評価\n",
    "logi = LogisticRegression()\n",
    "scores = cross_validation.cross_val_score(logi, data, target, cv=5)\n",
    "\n",
    "# 結果を表示する\n",
    "print(scores)"
   ]
  },
  {
   "cell_type": "code",
   "execution_count": 6,
   "metadata": {
    "collapsed": false
   },
   "outputs": [
    {
     "name": "stdout",
     "output_type": "stream",
     "text": [
      "[ 0.96666667  1.          0.96666667  0.96666667  1.        ]\n",
      "Acuuracy: 0.98\n"
     ]
    },
    {
     "name": "stderr",
     "output_type": "stream",
     "text": [
      "/Users/tatarahidenori/.pyenv/versions/3.5.0/lib/python3.5/site-packages/sklearn/base.py:175: DeprecationWarning: inspect.getargspec() is deprecated, use inspect.signature() instead\n",
      "  args, varargs, kw, default = inspect.getargspec(init)\n",
      "/Users/tatarahidenori/.pyenv/versions/3.5.0/lib/python3.5/site-packages/sklearn/base.py:175: DeprecationWarning: inspect.getargspec() is deprecated, use inspect.signature() instead\n",
      "  args, varargs, kw, default = inspect.getargspec(init)\n",
      "/Users/tatarahidenori/.pyenv/versions/3.5.0/lib/python3.5/site-packages/sklearn/base.py:175: DeprecationWarning: inspect.getargspec() is deprecated, use inspect.signature() instead\n",
      "  args, varargs, kw, default = inspect.getargspec(init)\n",
      "/Users/tatarahidenori/.pyenv/versions/3.5.0/lib/python3.5/site-packages/sklearn/base.py:175: DeprecationWarning: inspect.getargspec() is deprecated, use inspect.signature() instead\n",
      "  args, varargs, kw, default = inspect.getargspec(init)\n",
      "/Users/tatarahidenori/.pyenv/versions/3.5.0/lib/python3.5/site-packages/sklearn/base.py:175: DeprecationWarning: inspect.getargspec() is deprecated, use inspect.signature() instead\n",
      "  args, varargs, kw, default = inspect.getargspec(init)\n",
      "/Users/tatarahidenori/.pyenv/versions/3.5.0/lib/python3.5/site-packages/sklearn/base.py:175: DeprecationWarning: inspect.getargspec() is deprecated, use inspect.signature() instead\n",
      "  args, varargs, kw, default = inspect.getargspec(init)\n",
      "/Users/tatarahidenori/.pyenv/versions/3.5.0/lib/python3.5/site-packages/sklearn/base.py:175: DeprecationWarning: inspect.getargspec() is deprecated, use inspect.signature() instead\n",
      "  args, varargs, kw, default = inspect.getargspec(init)\n",
      "/Users/tatarahidenori/.pyenv/versions/3.5.0/lib/python3.5/site-packages/sklearn/base.py:175: DeprecationWarning: inspect.getargspec() is deprecated, use inspect.signature() instead\n",
      "  args, varargs, kw, default = inspect.getargspec(init)\n",
      "/Users/tatarahidenori/.pyenv/versions/3.5.0/lib/python3.5/site-packages/sklearn/base.py:175: DeprecationWarning: inspect.getargspec() is deprecated, use inspect.signature() instead\n",
      "  args, varargs, kw, default = inspect.getargspec(init)\n",
      "/Users/tatarahidenori/.pyenv/versions/3.5.0/lib/python3.5/site-packages/sklearn/base.py:175: DeprecationWarning: inspect.getargspec() is deprecated, use inspect.signature() instead\n",
      "  args, varargs, kw, default = inspect.getargspec(init)\n"
     ]
    }
   ],
   "source": [
    "\"\"\"\n",
    "p-131 リスト4  SVM を使ってあやめデータを学習させるプログラム\n",
    "\"\"\"\n",
    "from sklearn import datasets\n",
    "from sklearn import svm\n",
    "from sklearn import cross_validation\n",
    "\n",
    "# データの読み込み\n",
    "iris = datasets.load_iris()\n",
    "\n",
    "# 学習\n",
    "svc = svm.SVC()\n",
    "scores = cross_validation.cross_val_score(svc, iris.data, iris.target, cv=5)\n",
    "\n",
    "# 結果を表示する\n",
    "print(scores)\n",
    "print(\"Acuuracy:\", scores.mean())"
   ]
  }
 ],
 "metadata": {
  "kernelspec": {
   "display_name": "Python 3",
   "language": "python",
   "name": "python3"
  },
  "language_info": {
   "codemirror_mode": {
    "name": "ipython",
    "version": 3
   },
   "file_extension": ".py",
   "mimetype": "text/x-python",
   "name": "python",
   "nbconvert_exporter": "python",
   "pygments_lexer": "ipython3",
   "version": "3.5.0"
  }
 },
 "nbformat": 4,
 "nbformat_minor": 0
}
