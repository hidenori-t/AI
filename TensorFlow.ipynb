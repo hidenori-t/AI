{
 "cells": [
  {
   "cell_type": "code",
   "execution_count": 1,
   "metadata": {
    "collapsed": false,
    "scrolled": true
   },
   "outputs": [
    {
     "name": "stdout",
     "output_type": "stream",
     "text": [
      "0 [[ 1.12164903 -0.51434082]] [ 0.4460876]\n",
      "20 [[ 0.24699146  0.04933172]] [ 0.3131364]\n",
      "40 [[ 0.12056029  0.16870703]] [ 0.30767164]\n",
      "60 [[ 0.10195222  0.19249797]] [ 0.30331531]\n",
      "80 [[ 0.09977584  0.1979021 ]] [ 0.30130899]\n",
      "100 [[ 0.09975825  0.19933587]] [ 0.30049908]\n",
      "120 [[ 0.09988374  0.19977258]] [ 0.3001875]\n",
      "140 [[ 0.09995241  0.19991876]] [ 0.30006999]\n",
      "160 [[ 0.09998158  0.19997038]] [ 0.30002603]\n",
      "180 [[ 0.09999304  0.19998908]] [ 0.30000967]\n",
      "200 [[ 0.09999741  0.19999598]] [ 0.30000359]\n"
     ]
    }
   ],
   "source": [
    "import tensorflow as tf\n",
    "import numpy as np\n",
    "\n",
    "# Make 100 phony data points in NumPy.\n",
    "x_data = np.float32(np.random.rand(2, 100)) # Random input\n",
    "y_data = np.dot([0.100, 0.200], x_data) + 0.300\n",
    "\n",
    "# Construct a linear model.\n",
    "b = tf.Variable(tf.zeros([1]))\n",
    "W = tf.Variable(tf.random_uniform([1, 2], -1.0, 1.0))\n",
    "y = tf.matmul(W, x_data) + b\n",
    "\n",
    "# Minimize the squared errors.\n",
    "loss = tf.reduce_mean(tf.square(y - y_data))\n",
    "optimizer = tf.train.GradientDescentOptimizer(0.5)\n",
    "train = optimizer.minimize(loss)\n",
    "\n",
    "# For initializing the variables.\n",
    "init = tf.initialize_all_variables()\n",
    "\n",
    "# Launch the graph\n",
    "sess = tf.Session()\n",
    "sess.run(init)\n",
    "\n",
    "# Fit the plane.\n",
    "for step in xrange(0, 201):\n",
    "    sess.run(train)\n",
    "    if step % 20 == 0:\n",
    "        print step, sess.run(W), sess.run(b)\n",
    "\n",
    "# Learns best fit is W: [[0.100  0.200]], b: [0.300]"
   ]
  },
  {
   "cell_type": "markdown",
   "metadata": {},
   "source": [
    "http://qiita.com/icoxfog417/items/fb5c24e35a849f8e2c5d を参考にした\n",
    "# TensorFlow Arithmetic\n",
    "calculation"
   ]
  },
  {
   "cell_type": "code",
   "execution_count": 4,
   "metadata": {
    "collapsed": false
   },
   "outputs": [
    {
     "name": "stdout",
     "output_type": "stream",
     "text": [
      "[7.0]\n",
      "[10.0, 5.0, 2.0, 1.0, 2.0, 5.0, 10.0]\n"
     ]
    }
   ],
   "source": [
    "import tensorflow as tf\n",
    "\n",
    "def x2_plus_b(x, b):\n",
    "    _x = tf.constant(x)\n",
    "    _b = tf.constant(b)\n",
    "    result = tf.square(_x)\n",
    "    result = tf.add(result, _b)\n",
    "    return result\n",
    "\n",
    "with tf.Session() as sess:\n",
    "    result = sess.run([x2_plus_b(2., 3.)])\n",
    "    print result\n",
    "    \n",
    "with tf.Session() as sess:\n",
    "    result = sess.run([x2_plus_b(float(i), 1.) for i in range(-3, 4)])  # may be executed in parallel\n",
    "    print result"
   ]
  },
  {
   "cell_type": "code",
   "execution_count": 5,
   "metadata": {
    "collapsed": false
   },
   "outputs": [
    {
     "name": "stdout",
     "output_type": "stream",
     "text": [
      "[array([ 7.], dtype=float32)]\n"
     ]
    }
   ],
   "source": [
    "import tensorflow as tf\n",
    "\n",
    "with tf.name_scope(\"placeholder\") as scope:\n",
    "    p_x = tf.placeholder(tf.types.float32)\n",
    "    p_b = tf.placeholder(tf.types.float32)\n",
    "    p_x2_plus_b = tf.add(tf.square(p_x), p_b)\n",
    "\n",
    "with tf.Session() as sess:\n",
    "    result = sess.run([p_x2_plus_b], feed_dict={p_x: [2.], p_b: [3.]})\n",
    "    print result"
   ]
  },
  {
   "cell_type": "code",
   "execution_count": 7,
   "metadata": {
    "collapsed": true
   },
   "outputs": [],
   "source": [
    "import tensorflow as tf\n",
    "\n",
    "def monitor_calculation(x, b):\n",
    "    title = \"b = {0}\".format(b)\n",
    "    c = x2_plus_b(float(x), float(b))\n",
    "    s = tf.scalar_summary(title, c)\n",
    "    m = tf.merge_summary([s])  # if you are using some summaries, merge them\n",
    "    return m\n",
    "\n",
    "with tf.Session() as sess:\n",
    "    writer = tf.train.SummaryWriter(\"log\", graph_def=sess.graph_def)    \n",
    "    xaxis = range(-10, 12)\n",
    "\n",
    "    for b in range(3):\n",
    "        for x in xaxis:\n",
    "            summary_str = sess.run(monitor_calculation(x, b))\n",
    "            writer.add_summary(summary_str, x)"
   ]
  }
 ],
 "metadata": {
  "kernelspec": {
   "display_name": "Python 2",
   "language": "python",
   "name": "python2"
  },
  "language_info": {
   "codemirror_mode": {
    "name": "ipython",
    "version": 2
   },
   "file_extension": ".py",
   "mimetype": "text/x-python",
   "name": "python",
   "nbconvert_exporter": "python",
   "pygments_lexer": "ipython2",
   "version": "2.7.10"
  }
 },
 "nbformat": 4,
 "nbformat_minor": 0
}
