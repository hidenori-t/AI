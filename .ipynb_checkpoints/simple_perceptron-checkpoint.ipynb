{
 "cells": [
  {
   "cell_type": "markdown",
   "metadata": {},
   "source": [
    "slideshare:\n",
    "[Simple perceptron by TJO](http://www.slideshare.net/takashijozaki1/simple-perceptron-by-tjo) from [Takashi J Ozaki](http://www.slideshare.net/takashijozaki1)を参考にさせてもらいました."
   ]
  },
  {
   "cell_type": "code",
   "execution_count": null,
   "metadata": {
    "collapsed": true
   },
   "outputs": [],
   "source": [
    "# -*- coding: utf-8 -*-\n",
    "# simple_perceptron.py\n",
    "# 演算用にNumPyを、プロット用にmatplotlibをimport\n",
    "import numpy as np\n",
    "import matplotlib.pyplot as plt\n",
    "\n",
    "# 識別関数の本体：y=w'xを計算してるだけ\n",
    "def predict(wvec,xvec):\n",
    "    out=np.dot(wvec,xvec)\n",
    "    if out>=0:\n",
    "        res=1\n",
    "    else:\n",
    "        res=-1\n",
    "    return [res,out]\n",
    "\n",
    "# 学習部：識別関数に学習データを順繰りに入れて、\n",
    "# 重みベクトルを更新する\n",
    "def train(wvec,xvec,label):\n",
    "    [res,out]=predict(wvec,xvec)\n",
    "    c=0.5 # 学習係数。大き過ぎてもまともに学習してくれないので1未満ぐらいで\n",
    "    if out*label<0:\n",
    "        wtmp=wvec+c*label*xvec\n",
    "        return wtmp\n",
    "    else:\n",
    "        return wvec\n",
    "\n",
    "# 以下本体\n",
    "if __name__=='__main__':\n",
    "    \n",
    "    item_num=100 # 学習データは100個\n",
    "    loop=1000    # 収束判定は一切してないけどとりあえず1000回ループ\n",
    "    init_wvec=[1,-1,1] # 重みベクトルの初期値、適当\n",
    "    \n",
    "    # 学習データはxy平面の第1象限と第3象限に50個ずつ\n",
    "    # np.random.randomでばらつかせてみた\n",
    "    x1_1=np.ones(int(item_num/2))+10*np.random.random(int(item_num/2))\n",
    "    x1_2=np.ones(int(item_num/2))+10*np.random.random(int(item_num/2))\n",
    "    x2_1=-np.ones(int(item_num/2))-10*np.random.random(int(item_num/2))\n",
    "    x2_2=-np.ones(int(item_num/2))-10*np.random.random(int(item_num/2))\n",
    "    z=np.ones(int(item_num/2)) # こいつはバイアス項、今回は無視して1に固定\n",
    "\n",
    "    # 学習データを1つのマトリクスにまとめる\n",
    "    x1=np.c_[x1_1,x1_2,z]\n",
    "    x2=np.c_[x2_1,x2_2,z]\n",
    "    class_x=np.array(np.r_[x1,x2])\n",
    "\n",
    "    # 教師ラベルを1 or -1で振って1つのベクトルにまとめる\n",
    "    label1=np.ones(int(item_num/2))\n",
    "    label2=-1*np.ones(int(item_num/2))\n",
    "    label_x=np.array(np.r_[label1,label2])\n",
    "\n",
    "    # NumPy.ndarrayはappend()メソッドが使えないので\n",
    "    # 糞コードらしく初期arrayを作ってそこに垂直に足していく策を取る\n",
    "    wvec=np.vstack((init_wvec,init_wvec))\n",
    "    \n",
    "    # ループ回数の分だけ繰り返しつつ、重みベクトルを学習させる\n",
    "    for j in range(loop):\n",
    "        for i in range(item_num):\n",
    "            wvec_new=train(wvec[-1],class_x[i,:],label_x[i])\n",
    "            wvec=np.vstack((wvec,wvec_new))\n",
    "    w=wvec[-1] # 重みベクトルを垂直に足していった最後のものを採用する\n",
    "    print w\n",
    "\n",
    "    # 分離直線を引く\n",
    "    x_fig=range(-15,16)\n",
    "    y_fig=[-(w[1]/w[0])*xi-(w[2]/w[1]) for xi in x_fig]\n",
    "\n",
    "    # 漫然とプロットする\n",
    "    plt.scatter(x1[:,0],x1[:,1],marker='o',color='g',s=100)\n",
    "    plt.scatter(x2[:,0],x2[:,1],marker='s',color='b',s=100)\n",
    "    plt.plot(x_fig,y_fig)\n",
    "    plt.show()"
   ]
  },
  {
   "cell_type": "markdown",
   "metadata": {
    "collapsed": true
   },
   "source": [
    "# パーセプトロン\n",
    "線形識別器の基礎(今は)\n",
    "究極的には「識別関数」の値の大小で分類する.\n",
    "\n",
    "$$y=\\mathbf{w^{\\mathrm{T}}x}$$\n",
    "\n",
    "$y$: 返値（「±の符号」が大事！）  \n",
    "$\\mathbf{w^{\\mathrm{T}}}$: 重みベクトル（学習結果）  \n",
    "$\\mathbf{x}$: 入力信号（これから識別したいもの）\n",
    "\n",
    "例として,ここではメールのSPAM判定を想定する.\n",
    "\n",
    "入力信号の例.「メールの単語頻度」と仮定.\n",
    "\n",
    "$$ x=\\begin{bmatrix}「会議」という語の数 \\\\「目標」という語の数  \\\\「お買い得」という語の数 \\end{bmatrix} =  \\begin{bmatrix}2 \\\\1  \\\\0 \\end{bmatrix}  $$\n",
    "\n",
    "次に,重みベクトルの例.適当に決め打ち.\n",
    "\n",
    "$$ \\mathbf{w}=\\begin{bmatrix}w_{1} \\\\w_{2}  \\\\w_{3} \\end{bmatrix} =\\begin{bmatrix}1 \\\\1  \\\\-1 \\end{bmatrix} $$"
   ]
  },
  {
   "cell_type": "markdown",
   "metadata": {},
   "source": [
    "そこで識別関数を計算してみる.\n",
    "\n",
    "$$\\mathbf{y}=\\mathbf{w^{\\mathrm{T}}x}= \\begin{bmatrix}1 & 1 & -1 \\end{bmatrix} \\begin{bmatrix}2 \\\\1  \\\\0 \\end{bmatrix}=3$$\n",
    "\n",
    "$\\mathbf{w^{\\mathrm{T}}}$ は$1 \\times 3$行列 $(m =1,n =3)$  \n",
    "$\\mathbf{x}$ は$3 \\times 1$行列 $(n =3,p =1)$\n",
    "\n",
    "このとき $\\mathbf{w^{\\mathrm{T}}}$ の第 $1(i=1)$ 行と $\\mathbf{x}$ の第 $1(j=1)$ 列はともに $3(n=3)$ 個の成分からなっているので,その対応する成分の積の和は\n",
    "\n",
    "$$\n",
    "\\mathbf{y} = \\sum_{k=1}^{3} w_{1k}^{{\\mathrm{T}}}\\mathbf{x}_{k1}=\n",
    "w_{11}^{{\\mathrm{T}}}\\mathbf{x}_{11}+\n",
    "w_{12}^{{\\mathrm{T}}}\\mathbf{x}_{21}+\n",
    "w_{13}^{{\\mathrm{T}}}\\mathbf{x}_{31}=\n",
    "1\\cdot2 +1\\cdot1+ (-1)\\cdot0 =3\n",
    "$$\n",
    "\n",
    "$\\mathbf{y}=3$ ゆえに,これは非SPAM."
   ]
  },
  {
   "cell_type": "code",
   "execution_count": 1,
   "metadata": {
    "collapsed": false
   },
   "outputs": [
    {
     "name": "stdout",
     "output_type": "stream",
     "text": [
      "[3]\n"
     ]
    }
   ],
   "source": [
    "import numpy as np\n",
    "\n",
    "wt = np.array([1,1,-1])\n",
    "x = np.array([[2],\n",
    "              [1],\n",
    "              [0]])\n",
    "\n",
    "print np.dot(wt,x)"
   ]
  },
  {
   "cell_type": "markdown",
   "metadata": {},
   "source": [
    "ところが,SPAMじゃないはずなのに,ベクトルがこのような数のメールが来たら\n",
    "\n",
    "$$ x=\\begin{bmatrix}「会議」という語の数 \\\\「目標」という語の数  \\\\「お買い得」という語の数 \\end{bmatrix} =  \\begin{bmatrix}1 \\\\1  \\\\3\\end{bmatrix}  $$"
   ]
  },
  {
   "cell_type": "markdown",
   "metadata": {},
   "source": [
    "そこで識別関数を計算してみる.\n",
    "\n",
    "$$\\mathbf{y}=\\mathbf{w^{\\mathrm{T}}x}= \\begin{bmatrix}1 & 1 & -1 \\end{bmatrix} \\begin{bmatrix}1 \\\\1  \\\\3 \\end{bmatrix}=-1$$\n",
    "\n",
    "非SPAMのはずなのに $\\mathbf{y}=-1$ というSPAM判定が出た.  \n",
    "ということは,重みベクトルを変えねばならない."
   ]
  },
  {
   "cell_type": "code",
   "execution_count": 1,
   "metadata": {
    "collapsed": false
   },
   "outputs": [
    {
     "name": "stdout",
     "output_type": "stream",
     "text": [
      "[-1]\n"
     ]
    }
   ],
   "source": [
    "import numpy as np\n",
    "\n",
    "wt = np.array([1,1,-1])\n",
    "x = np.array([[1],\n",
    "              [1],\n",
    "              [3]])\n",
    "\n",
    "print np.dot(wt,x)"
   ]
  },
  {
   "cell_type": "markdown",
   "metadata": {
    "collapsed": true
   },
   "source": [
    "そこで,重みベクトルを以下のように更新する.$\\mu$は学習係数, $\\begin{bmatrix}1 \\\\1 \\\\3 \\end{bmatrix}$ は誤判定した時の入力信号の値.\n",
    "\n",
    "$$ \\mathbf{w_{new}}=\\mathbf{w_{old}}+ \\mu \\begin{bmatrix}1 \\\\1 \\\\3 \\end{bmatrix} =\\begin{bmatrix}1 \\\\1  \\\\-1 \\end{bmatrix} + \\begin{bmatrix}\\mu \\\\\\mu  \\\\3\\mu \\end{bmatrix} = \\begin{bmatrix}1+\\mu \\\\1+\\mu  \\\\-1+3\\mu \\end{bmatrix} $$"
   ]
  }
 ],
 "metadata": {
  "kernelspec": {
   "display_name": "Python 2",
   "language": "python",
   "name": "python2"
  },
  "language_info": {
   "codemirror_mode": {
    "name": "ipython",
    "version": 2
   },
   "file_extension": ".py",
   "mimetype": "text/x-python",
   "name": "python",
   "nbconvert_exporter": "python",
   "pygments_lexer": "ipython2",
   "version": "2.7.10"
  }
 },
 "nbformat": 4,
 "nbformat_minor": 0
}
