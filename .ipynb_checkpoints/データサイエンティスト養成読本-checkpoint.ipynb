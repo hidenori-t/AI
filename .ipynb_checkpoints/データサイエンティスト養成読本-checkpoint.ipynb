{
 "cells": [
  {
   "cell_type": "markdown",
   "metadata": {},
   "source": [
    "p118"
   ]
  },
  {
   "cell_type": "code",
   "execution_count": 1,
   "metadata": {
    "collapsed": false
   },
   "outputs": [
    {
     "data": {
      "text/plain": [
       "15"
      ]
     },
     "execution_count": 1,
     "metadata": {},
     "output_type": "execute_result"
    }
   ],
   "source": [
    "x=3*5\n",
    "x"
   ]
  },
  {
   "cell_type": "code",
   "execution_count": 2,
   "metadata": {
    "collapsed": false
   },
   "outputs": [
    {
     "name": "stdout",
     "output_type": "stream",
     "text": [
      "15\n"
     ]
    }
   ],
   "source": [
    "x=3*5\n",
    "print(x)"
   ]
  },
  {
   "cell_type": "code",
   "execution_count": 5,
   "metadata": {
    "collapsed": false
   },
   "outputs": [
    {
     "data": {
      "text/plain": [
       "array([[1, 2],\n",
       "       [3, 4]])"
      ]
     },
     "execution_count": 5,
     "metadata": {},
     "output_type": "execute_result"
    }
   ],
   "source": [
    "import numpy as np\n",
    "a = np.array([[1,2],[3,4]])\n",
    "a"
   ]
  },
  {
   "cell_type": "code",
   "execution_count": 4,
   "metadata": {
    "collapsed": false
   },
   "outputs": [
    {
     "data": {
      "text/plain": [
       "array([0, 1, 2, 3, 4, 5, 6, 7, 8, 9])"
      ]
     },
     "execution_count": 4,
     "metadata": {},
     "output_type": "execute_result"
    }
   ],
   "source": [
    "b = np.array(np.arange(10))\n",
    "b"
   ]
  },
  {
   "cell_type": "code",
   "execution_count": 5,
   "metadata": {
    "collapsed": false
   },
   "outputs": [
    {
     "data": {
      "text/plain": [
       "array([[0, 1, 2, 3, 4],\n",
       "       [5, 6, 7, 8, 9]])"
      ]
     },
     "execution_count": 5,
     "metadata": {},
     "output_type": "execute_result"
    }
   ],
   "source": [
    "c = b.reshape(2,5)\n",
    "c"
   ]
  },
  {
   "cell_type": "code",
   "execution_count": 5,
   "metadata": {
    "collapsed": false
   },
   "outputs": [
    {
     "data": {
      "text/plain": [
       "array([[0, 1],\n",
       "       [2, 3]])"
      ]
     },
     "execution_count": 5,
     "metadata": {},
     "output_type": "execute_result"
    }
   ],
   "source": [
    "a = np.arange(4).reshape(2,2)\n",
    "a"
   ]
  },
  {
   "cell_type": "code",
   "execution_count": 5,
   "metadata": {
    "collapsed": false
   },
   "outputs": [
    {
     "data": {
      "text/plain": [
       "array([[3, 4],\n",
       "       [5, 6]])"
      ]
     },
     "execution_count": 5,
     "metadata": {},
     "output_type": "execute_result"
    }
   ],
   "source": [
    "b = np.arange(3,7).reshape(2,2)\n",
    "b"
   ]
  },
  {
   "cell_type": "code",
   "execution_count": 6,
   "metadata": {
    "collapsed": false
   },
   "outputs": [
    {
     "data": {
      "text/plain": [
       "array([[3, 5],\n",
       "       [7, 9]])"
      ]
     },
     "execution_count": 6,
     "metadata": {},
     "output_type": "execute_result"
    }
   ],
   "source": [
    "a+b"
   ]
  },
  {
   "cell_type": "code",
   "execution_count": 7,
   "metadata": {
    "collapsed": false
   },
   "outputs": [
    {
     "data": {
      "text/plain": [
       "array([[0, 2],\n",
       "       [1, 3]])"
      ]
     },
     "execution_count": 7,
     "metadata": {},
     "output_type": "execute_result"
    }
   ],
   "source": [
    "a.T"
   ]
  },
  {
   "cell_type": "code",
   "execution_count": 8,
   "metadata": {
    "collapsed": false
   },
   "outputs": [
    {
     "data": {
      "text/plain": [
       "array([[3, 6],\n",
       "       [6, 9]])"
      ]
     },
     "execution_count": 8,
     "metadata": {},
     "output_type": "execute_result"
    }
   ],
   "source": [
    "a.T+b"
   ]
  },
  {
   "cell_type": "code",
   "execution_count": 9,
   "metadata": {
    "collapsed": false
   },
   "outputs": [
    {
     "data": {
      "text/plain": [
       "array([[-3, -3],\n",
       "       [-3, -3]])"
      ]
     },
     "execution_count": 9,
     "metadata": {},
     "output_type": "execute_result"
    }
   ],
   "source": [
    "a-b"
   ]
  },
  {
   "cell_type": "code",
   "execution_count": 10,
   "metadata": {
    "collapsed": false
   },
   "outputs": [
    {
     "data": {
      "text/plain": [
       "array([[ 5,  6],\n",
       "       [21, 26]])"
      ]
     },
     "execution_count": 10,
     "metadata": {},
     "output_type": "execute_result"
    }
   ],
   "source": [
    "np.dot(a,b)"
   ]
  },
  {
   "cell_type": "code",
   "execution_count": 7,
   "metadata": {
    "collapsed": false
   },
   "outputs": [
    {
     "data": {
      "text/plain": [
       "array([40, 70])"
      ]
     },
     "execution_count": 7,
     "metadata": {},
     "output_type": "execute_result"
    }
   ],
   "source": [
    "v = np.array([10, 20])\n",
    "np.dot(a,v)\n",
    "np.dot(v,a)"
   ]
  },
  {
   "cell_type": "code",
   "execution_count": 30,
   "metadata": {
    "collapsed": false
   },
   "outputs": [
    {
     "data": {
      "text/plain": [
       "array([10, 11, 12])"
      ]
     },
     "execution_count": 30,
     "metadata": {},
     "output_type": "execute_result"
    }
   ],
   "source": [
    "# インデクシング\n",
    "v = np.arange(10, 15)\n",
    "v[:-1]\n",
    "a = np.arange(1,5).reshape(2,2)\n",
    "a\n",
    "u = a[:,1]\n",
    "u\n",
    "ii = np.array([2,3])\n",
    "v[ii]\n",
    "w = np.array([False,False,False,True,True])\n",
    "v[w]\n",
    "# ブロードキャスティング\n",
    "a*2\n",
    "np.exp(a)\n",
    "v<13\n",
    "# インデクシングとブロードキャスティングを組み合わせた例\n",
    "v[v<13]"
   ]
  },
  {
   "cell_type": "code",
   "execution_count": 39,
   "metadata": {
    "collapsed": false
   },
   "outputs": [
    {
     "data": {
      "text/plain": [
       "array([0, 1, 2, 3, 4, 5])"
      ]
     },
     "execution_count": 39,
     "metadata": {},
     "output_type": "execute_result"
    }
   ],
   "source": [
    "# 行列の結合の例\n",
    "a = np.arange(6).reshape(2,3)\n",
    "b = np.arange(6,12).reshape(2,3)\n",
    "a\n",
    "b\n",
    "np.c_[a,b]\n",
    "np.r_[a,b]\n",
    "c = np.arange(3)\n",
    "d = np.arange(3, 6)\n",
    "c\n",
    "d\n",
    "np.c_[c, d]\n",
    "np.r_[c, d]"
   ]
  },
  {
   "cell_type": "code",
   "execution_count": 52,
   "metadata": {
    "collapsed": false
   },
   "outputs": [
    {
     "data": {
      "text/plain": [
       "array([  1.,   6.,   0.,  15.,  20.])"
      ]
     },
     "execution_count": 52,
     "metadata": {},
     "output_type": "execute_result"
    }
   ],
   "source": [
    "# 疎行列の計算の例\n",
    "from scipy import sparse\n",
    "a = sparse.lil_matrix((5,5))\n",
    "a[0,0]=1; a[1,2]=2; a[3,4]=3; a[4,4]=4\n",
    "a.todense()\n",
    "b = a.tocsr()\n",
    "b.getrow(1).todense()\n",
    "v = np.array([1,2,3,4,5])\n",
    "a.dot(v)"
   ]
  },
  {
   "cell_type": "code",
   "execution_count": 6,
   "metadata": {
    "collapsed": false
   },
   "outputs": [],
   "source": [
    "# matplotlib による可視化\n",
    "# 折れ線グラフ\n",
    "import matplotlib.pyplot as plt\n",
    "x = [1,2,3,4]\n",
    "y = [3,5,4,7]\n",
    "plt.plot(x,y)\n",
    "plt.show()"
   ]
  },
  {
   "cell_type": "code",
   "execution_count": 11,
   "metadata": {
    "collapsed": true
   },
   "outputs": [],
   "source": [
    "x = np.linspace(-5,5,100)\n",
    "y = x**2\n",
    "plt.plot(x,y)\n",
    "plt.show()"
   ]
  },
  {
   "cell_type": "code",
   "execution_count": 13,
   "metadata": {
    "collapsed": true
   },
   "outputs": [],
   "source": [
    "# 例8\n",
    "x = [1,2,3,4]\n",
    "y = [3,5,4,7]\n",
    "plt.scatter(x, y)\n",
    "plt.show()"
   ]
  },
  {
   "cell_type": "code",
   "execution_count": 17,
   "metadata": {
    "collapsed": true
   },
   "outputs": [],
   "source": [
    "# 例9 & 10 remix\n",
    "x = np.array([1,2,3])\n",
    "y1 = np.array([2,3,4])\n",
    "y2 = np.array([7,6,5])\n",
    "plt.scatter(x, y1, marker=\"o\", c =\"b\")\n",
    "plt.scatter(x, y2, marker=\"+\", c =\"r\")\n",
    "plt.show()"
   ]
  },
  {
   "cell_type": "code",
   "execution_count": 21,
   "metadata": {
    "collapsed": false
   },
   "outputs": [
    {
     "data": {
      "text/plain": [
       "array([4, 4, 4, 5, 5, 5, 6, 6, 6])"
      ]
     },
     "execution_count": 21,
     "metadata": {},
     "output_type": "execute_result"
    }
   ],
   "source": [
    "# 例11\n",
    "x = np.array([1,2,3])\n",
    "y = np.array([4,5,6])\n",
    "X, Y = np.meshgrid(x,y)\n",
    "X\n",
    "Y\n",
    "X.ravel()\n",
    "Y.ravel()"
   ]
  },
  {
   "cell_type": "code",
   "execution_count": 31,
   "metadata": {
    "collapsed": false
   },
   "outputs": [],
   "source": [
    "# 例12~15\n",
    "\n",
    "x = np.linspace(-5,5,200)\n",
    "y = np.linspace(-5,5,200)\n",
    "X, Y = np.meshgrid(x, y)\n",
    "Z = X.ravel()**2 - Y.ravel()**2\n",
    "#plt.contourf(X, Y, Z.reshape(X.shape))\n",
    "#plt.contourf(X, Y, Z.reshape(X.shape), levels = [-20,-10,0,10,20],colors = [\"r\",\"g\",\"b\",\"y\"])\n",
    "plt.contour(X, Y, Z.reshape(X.shape), colors = \"k\")\n",
    "\n",
    "plt.show()"
   ]
  },
  {
   "cell_type": "markdown",
   "metadata": {},
   "source": [
    "# sckit-learn 入門"
   ]
  },
  {
   "cell_type": "code",
   "execution_count": 41,
   "metadata": {
    "collapsed": false
   },
   "outputs": [
    {
     "name": "stdout",
     "output_type": "stream",
     "text": [
      "coef and intercept : [ 42.85335573] -1.62836365406\n",
      "score : 0.803335728656\n"
     ]
    }
   ],
   "source": [
    "\"\"\"\n",
    "p-128 リスト1 人工的データを使った線形回帰のプログラム\n",
    "標準出力に,係数,切片,スコア(決定係数)を表示し,点群と回帰直線をグラフにして可視化する\n",
    "\"\"\"\n",
    "import numpy as np\n",
    "import matplotlib.pyplot as plt\n",
    "from sklearn import linear_model, datasets\n",
    "\n",
    "# 乱数によりデータを生成\n",
    "np.random.seed(0)\n",
    "regdata = datasets.make_regression(100, 1, noise=20.0)\n",
    "\n",
    "# 学習を行いモデルのパラメータを表示\n",
    "lin = linear_model.LinearRegression()\n",
    "lin.fit(regdata[0], regdata[1])\n",
    "print(\"coef and intercept :\", lin.coef_, lin.intercept_)\n",
    "print(\"score :\", lin.score(regdata[0], regdata[1]))\n",
    "\n",
    "# グラフを描画\n",
    "xr = [-2.5, 2.5]\n",
    "plt.plot(xr, lin.coef_ * xr + lin.intercept_)\n",
    "plt.scatter(regdata[0], regdata[1])\n",
    "\n",
    "plt.show()"
   ]
  },
  {
   "cell_type": "code",
   "execution_count": null,
   "metadata": {
    "collapsed": true
   },
   "outputs": [],
   "source": [
    "\"\"\"\n",
    "p-129 リスト2 糖尿病データを使った線形回帰のプログラム\n",
    "標準出力に,係数,切片,スコア(決定係数)を表示し,点群と回帰直線をグラフにして可視化する\n",
    "\"\"\""
   ]
  }
 ],
 "metadata": {
  "kernelspec": {
   "display_name": "Python 3",
   "language": "python",
   "name": "python3"
  },
  "language_info": {
   "codemirror_mode": {
    "name": "ipython",
    "version": 3
   },
   "file_extension": ".py",
   "mimetype": "text/x-python",
   "name": "python",
   "nbconvert_exporter": "python",
   "pygments_lexer": "ipython3",
   "version": "3.5.0"
  }
 },
 "nbformat": 4,
 "nbformat_minor": 0
}
